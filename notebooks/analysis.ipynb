{
 "cells": [
  {
   "cell_type": "code",
   "execution_count": 3,
   "id": "f18ba995-8178-45f0-a42a-537360cff0fd",
   "metadata": {},
   "outputs": [],
   "source": [
    "# Import libraries\n",
    "from sklearn.compose import ColumnTransformer, make_column_transformer\n",
    "import pandas as pd\n",
    "from sklearn.linear_model import LogisticRegression\n",
    "from sklearn.metrics import (\n",
    "    classification_report,\n",
    "    confusion_matrix,\n",
    "    f1_score,\n",
    "    make_scorer,\n",
    "    plot_confusion_matrix,\n",
    "    accuracy_score,\n",
    ")\n",
    "from sklearn.model_selection import (\n",
    "    GridSearchCV,\n",
    "    RandomizedSearchCV,\n",
    "    cross_val_score,\n",
    "    cross_validate,\n",
    "    train_test_split,\n",
    ")\n",
    "from sklearn.pipeline import Pipeline, make_pipeline\n",
    "from sklearn.preprocessing import OneHotEncoder, OrdinalEncoder, StandardScaler\n",
    "from sklearn.svm import SVC\n",
    "\n",
    "from sklearn.dummy import DummyClassifier\n",
    "from sklearn.ensemble import RandomForestClassifier\n",
    "\n",
    "import numpy as np\n",
    "\n",
    "from sklearn.tree import DecisionTreeClassifier\n",
    "from sklearn.metrics import roc_curve\n",
    "from sklearn.metrics import roc_auc_score"
   ]
  },
  {
   "cell_type": "code",
   "execution_count": 24,
   "id": "0710c5d7-42f4-4429-bb04-0f148d3d4301",
   "metadata": {
    "tags": []
   },
   "outputs": [
    {
     "name": "stdout",
     "output_type": "stream",
     "text": [
      "Age\n",
      "Embarked\n",
      "Fare\n",
      "Name\n",
      "Parch\n",
      "PassengerId\n",
      "Pclass\n",
      "Sex\n",
      "SibSp\n",
      "Survived\n",
      "Ticket\n",
      "Title\n",
      "Family_Size\n"
     ]
    }
   ],
   "source": [
    "# Read data\n",
    "titanic_train = pd.read_csv(\"titanic_training.csv\")\n",
    "titanic_test = pd.read_csv(\"titanic_test_data.csv\")\n",
    "\n",
    "for col in titanic_train.columns:\n",
    "     print(col)"
   ]
  },
  {
   "cell_type": "code",
   "execution_count": 140,
   "id": "483a639d-1976-435d-98d5-b7a21940d78c",
   "metadata": {
    "tags": []
   },
   "outputs": [],
   "source": [
    "# Specifying response and explanatory variables\n",
    "y = titanic_train[\"Survived\"]\n",
    "X = titanic_train[[\"Age\", \"Sex\", \"Title\", \"Family_Size\", \"Pclass\", \"Parch\"]]\n",
    "\n",
    "# transformation\n",
    "numeric_feats = [\"Age\", \"Family_Size\", \"Pclass\", \"Parch\"]\n",
    "cat_feat = [\"Title\", \"Sex\"]\n",
    "ct = make_column_transformer(\n",
    "    \n",
    "      (\n",
    "        StandardScaler(),\n",
    "        numeric_feats,\n",
    "      ),  \n",
    "    (\n",
    "        OneHotEncoder(handle_unknown=\"ignore\"),\n",
    "        cat_feat,\n",
    "    ),  \n",
    "    \n",
    ")\n",
    "pipe_lr = make_pipeline(\n",
    "    ct,\n",
    "    LogisticRegression(max_iter = 10000)\n",
    ") \n"
   ]
  },
  {
   "cell_type": "code",
   "execution_count": 141,
   "id": "7794810f-e746-41eb-8aa4-8dbd1e816e0b",
   "metadata": {},
   "outputs": [],
   "source": [
    "# fit the model\n",
    "model = make_pipeline(\n",
    "    ct, \n",
    "    LogisticRegression(max_iter=10000, C=1),\n",
    "    )\n",
    "\n",
    "model.fit(X, y)\n",
    "\n",
    "# predict on test\n",
    "predict = model.predict(titanic_test)\n"
   ]
  },
  {
   "cell_type": "code",
   "execution_count": 142,
   "id": "44d8e34c-c3b0-4870-8e72-de393b4d7fd3",
   "metadata": {
    "tags": []
   },
   "outputs": [],
   "source": [
    "submission = pd.DataFrame({ \"PassengerId\": titanic_test[\"PassengerId\"], \"Survived\": predict}) \n",
    "submission.to_csv('submission3.csv', index=False)"
   ]
  },
  {
   "cell_type": "code",
   "execution_count": null,
   "id": "38f49bf3-58b1-4808-b6fe-a199ff319043",
   "metadata": {},
   "outputs": [],
   "source": []
  }
 ],
 "metadata": {
  "kernelspec": {
   "display_name": "Python 3 (ipykernel)",
   "language": "python",
   "name": "python3"
  },
  "language_info": {
   "codemirror_mode": {
    "name": "ipython",
    "version": 3
   },
   "file_extension": ".py",
   "mimetype": "text/x-python",
   "name": "python",
   "nbconvert_exporter": "python",
   "pygments_lexer": "ipython3",
   "version": "3.9.7"
  }
 },
 "nbformat": 4,
 "nbformat_minor": 5
}
